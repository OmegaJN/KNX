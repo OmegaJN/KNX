{
  "nbformat": 4,
  "nbformat_minor": 0,
  "metadata": {
    "colab": {
      "provenance": [],
      "authorship_tag": "ABX9TyNYpUuTGP2mf7EG9Zmt/fyK",
      "include_colab_link": true
    },
    "kernelspec": {
      "name": "python3",
      "display_name": "Python 3"
    },
    "language_info": {
      "name": "python"
    }
  },
  "cells": [
    {
      "cell_type": "markdown",
      "metadata": {
        "id": "view-in-github",
        "colab_type": "text"
      },
      "source": [
        "<a href=\"https://colab.research.google.com/github/OmegaJN/KNX/blob/master/Option.ipynb\" target=\"_parent\"><img src=\"https://colab.research.google.com/assets/colab-badge.svg\" alt=\"Open In Colab\"/></a>"
      ]
    },
    {
      "cell_type": "code",
      "source": [
        "import pandas as pd\n",
        "import numpy as np\n",
        "import matplotlib.pyplot as plt\n",
        "\n",
        "# ========= Strike price (begin, end) =================\n",
        "pr_begin= 80000\n",
        "pr_end= 122500\n",
        "\n",
        "# ========= Параметры опционного портфеля ==============\n",
        "# ---------- Call -----------------\n",
        "st = 105000 #\"Strike Call Option:\"\n",
        "price_call = 2000 #int(input(\"Price Call Option:\"))\n",
        "direct_call= 5 #int(input('Call Buy/Sell(+/-):'))\n",
        "\n",
        "st1 = 105000 #\"Strike Call Option:\"\n",
        "price_call1 = 2360 #int(input(\"Price Call Option:\"))\n",
        "direct1_call2= 0 #int(input('Call Buy/Sell(+/-):'))\n",
        "\n",
        "# ---------- Put ----------------\n",
        "st_p= 95000 #int(input('Strike Put Option:'))\n",
        "p_put= 3530 #int(input('Price Put Option:'))\n",
        "direct_put= 0 #int(input('Put Buy/Sell(+/-):'))\n",
        "\n",
        "st_p1 = 105000 #int(input('Strike Put Option:'))\n",
        "p_put1 = 8590 #int(input('Price Put Option:'))\n",
        "direct_put1 = 0 #int(input('Put Buy/Sell(+/-):'))\n",
        "\n",
        "# ----------- Future ----------\n",
        "p_fut_pos=101700 # input Futures Price\n",
        "dir_f= -5 # input Futures Positions\n",
        "\n",
        "price_step=1.0\n",
        "\n",
        "# ========= ф-ии ========================\n",
        "def call(x, st, p_call, direct):\n",
        "  if x < st :\n",
        "    pnl=-p_call*direct\n",
        "  else:\n",
        "    pnl=(-p_call+(x-st))*direct\n",
        "  return pnl\n",
        "\n",
        "def put(x, st_p, p_put,direct_put):\n",
        "  if x > st_p :\n",
        "    pnl_p=-p_put*direct_put\n",
        "  else:\n",
        "    pnl_p=(-p_put+(st_p-x))*direct_put\n",
        "  return pnl_p\n",
        "#============== Расчеты =====================\n",
        "x_values = []\n",
        "y_values_call = []\n",
        "y_values_call2 = []\n",
        "y_values_put = []\n",
        "y_values_put2 = []\n",
        "y_values_fut = []\n",
        "ysum_values = []\n",
        "\n",
        "for x in range( pr_begin, pr_end, 2500):\n",
        "  x_values.append(x)\n",
        "  \n",
        "  y_call=call(x, st, price_call, direct_call)*price_step\n",
        "  y_values_call.append(y_call)\n",
        "  y_call2=call(x, st1, price_call1, direct1_call2)*price_step\n",
        "  y_values_call2.append(y_call2)\n",
        "    \n",
        "  y_put=put(x, st_p, p_put, direct_put)*price_step\n",
        "  y_values_put.append(y_put)\n",
        "  y_put2=put(x, st_p1, p_put1, direct_put1)*price_step\n",
        "  y_values_put2.append(y_put2)\n",
        "\n",
        "  y_fut=(x-p_fut_pos)*dir_f*price_step\n",
        "  y_values_fut.append(y_fut)\n",
        "  \n",
        "  ysum_values.append(y_call+y_call2+y_put+y_put2+y_fut)\n",
        "\n",
        "# ========== Greeks =====================\n",
        "Delta = (ysum_values[1]-ysum_values[0])/(x_values[1]-x_values[0])\n",
        "Gamma = (ysum_values[2]-2*ysum_values[1]+ysum_values[0])/(x_values[1]-x_values[0])**2\n",
        "Theta = -(ysum_values[-1]-ysum_values[-2])/(x_values[-1]-x_values[-2])\n",
        "\n",
        "delta_values = [] \n",
        "gamma_values = [] \n",
        "theta_values = []\n",
        "\n",
        "for i in range(1, len(ysum_values)): \n",
        "  delta = (ysum_values[i]-ysum_values[i-1])/(x_values[i]-x_values[i-1]) \n",
        "  delta_values.append(delta)\n",
        "\n",
        "for i in range(1, len(ysum_values)-1): \n",
        "  gamma = (ysum_values[i+1]-2*ysum_values[i]+ysum_values[i-1])/(x_values[i]-x_values[i-1])**2 \n",
        "  gamma_values.append(gamma)\n",
        "\n",
        "theta = -(ysum_values[-1]-ysum_values[-2])/(x_values[-1]-x_values[-2]) \n",
        "theta_values.append(theta)\n",
        "\n",
        "print(x_values, '\\n', delta_values, '\\n', gamma_values, '\\n',theta_values)\n",
        "\n",
        "# ============= plot ===================\n",
        "plt.rcParams ['figure.figsize'] = [15, 10]\n",
        "plt.plot(x_values, y_values_call, color='red', label='Call1')\n",
        "plt.plot(x_values, y_values_call2, color='brown', label='Call2')\n",
        "plt.plot(x_values, y_values_put, color='blue', label='Put1')\n",
        "plt.plot(x_values, y_values_put2, color='gray', label='Put2')\n",
        "plt.plot(x_values, y_values_fut, color='magenta', label='Future')\n",
        "plt.plot(x_values, ysum_values, linewidth= 5, color='green', label='Summary')\n",
        "plt.plot(x_values, [1]*len(x_values), color='black')\n",
        "plt.xlabel('Price Future ')\n",
        "plt.ylabel('P & L')\n",
        "plt.grid()\n",
        "plt.legend()\n",
        "plt.show()"
      ],
      "metadata": {
        "colab": {
          "base_uri": "https://localhost:8080/",
          "height": 919
        },
        "id": "pEN4i7w86ThL",
        "outputId": "89294ade-d564-49b4-d393-832b11585f2e"
      },
      "execution_count": null,
      "outputs": [
        {
          "output_type": "stream",
          "name": "stdout",
          "text": [
            "[80000, 82500, 85000, 87500, 90000, 92500, 95000, 97500, 100000, 102500, 105000, 107500, 110000, 112500, 115000, 117500, 120000] \n",
            " [-5.0, -5.0, -5.0, -5.0, -5.0, -5.0, -5.0, -5.0, -5.0, -5.0, 0.0, 0.0, 0.0, 0.0, 0.0, 0.0] \n",
            " [0.0, 0.0, 0.0, 0.0, 0.0, 0.0, 0.0, 0.0, 0.0, 0.002, 0.0, 0.0, 0.0, 0.0, 0.0] \n",
            " [-0.0]\n"
          ]
        },
        {
          "output_type": "display_data",
          "data": {
            "text/plain": [
              "<Figure size 1500x1000 with 1 Axes>"
            ],
            "image/png": "[encoded data removed]"
          },
          "metadata": {}
        }
      ]
    },
    {
      "cell_type": "markdown",
      "source": [
        "Простой расчет портфеля опционов состоящий из Двух позиций Call & Put."
      ],
      "metadata": {
        "id": "61TqI86Rtfj-"
      }
    },
    {
      "cell_type": "code",
      "source": [
        "import pandas as pd\n",
        "import numpy as np\n",
        "import matplotlib.pyplot as plt\n",
        "\n",
        "pr_begin=60000\n",
        "pr_end=140000\n",
        "\n",
        "st = int(input(\"Strike Call Option:\")) \n",
        "price_call = int(input(\"Price Call Option:\"))\n",
        "direct=int(input('Call Buy/Sell(+/-):'))\n",
        "#st=100000\n",
        "#price_call=5000\n",
        "st_p=int(input('Strike Put Option:'))\n",
        "p_put=int(input('Price Put Option:'))\n",
        "direct_put=int(input('Put Buy/Sell(+/-):'))\n",
        "\n",
        "def call(x, st, p_call, direct):\n",
        "  if x < st :\n",
        "    pnl=-price_call*direct\n",
        "  else:\n",
        "    pnl=(-price_call+(x-st))*direct\n",
        "  return pnl\n",
        "\n",
        "def put(x, st_p, p_put,direct_put):\n",
        "  if x > st_p :\n",
        "    pnl_p=-p_put*direct_put\n",
        "  else:\n",
        "    pnl_p=(-p_put+(st_p-x))*direct_put\n",
        "  return pnl_p\n",
        "\n",
        "x_values = []\n",
        "y_values = []\n",
        "y1_values = []\n",
        "ysum_values = []\n",
        "\n",
        "for x in range(pr_begin,pr_end):\n",
        "  y=call(x, st, price_call, direct)\n",
        "  x_values.append(x)\n",
        "  y_values.append(y)\n",
        "  y1=put(x, st_p, p_put, direct_put)\n",
        "  y1_values.append(y1)\n",
        "  ysum_values.append(y+y1)\n",
        "\n",
        "plt.plot(x_values, y_values, color='red', label='Call')\n",
        "plt.plot(x_values, y1_values, color='blue', label='Put')\n",
        "plt.plot(x_values, ysum_values, color='green', label='Sum')\n",
        "plt.plot(x_values, [1]*len(x_values), color='black')\n",
        "plt.xlabel('Price Future ')\n",
        "plt.ylabel('P & L')\n",
        "plt.grid()\n",
        "plt.legend()\n",
        "plt.show()"
      ],
      "metadata": {
        "colab": {
          "base_uri": "https://localhost:8080/",
          "height": 380
        },
        "id": "E0OE3_KjTIn3",
        "outputId": "eee7e90d-2c3e-44ce-9021-fa523f1d7d49"
      },
      "execution_count": null,
      "outputs": [
        {
          "output_type": "error",
          "ename": "KeyboardInterrupt",
          "evalue": "ignored",
          "traceback": [
            "\u001b[0;31m---------------------------------------------------------------------------\u001b[0m",
            "\u001b[0;31mKeyboardInterrupt\u001b[0m                         Traceback (most recent call last)",
            "\u001b[0;32m<ipython-input-56-eb8e34d7299e>\u001b[0m in \u001b[0;36m<cell line: 8>\u001b[0;34m()\u001b[0m\n\u001b[1;32m      6\u001b[0m \u001b[0mpr_end\u001b[0m\u001b[0;34m=\u001b[0m\u001b[0;36m140000\u001b[0m\u001b[0;34m\u001b[0m\u001b[0;34m\u001b[0m\u001b[0m\n\u001b[1;32m      7\u001b[0m \u001b[0;34m\u001b[0m\u001b[0m\n\u001b[0;32m----> 8\u001b[0;31m \u001b[0mst\u001b[0m \u001b[0;34m=\u001b[0m \u001b[0mint\u001b[0m\u001b[0;34m(\u001b[0m\u001b[0minput\u001b[0m\u001b[0;34m(\u001b[0m\u001b[0;34m\"Strike Call Option:\"\u001b[0m\u001b[0;34m)\u001b[0m\u001b[0;34m)\u001b[0m\u001b[0;34m\u001b[0m\u001b[0;34m\u001b[0m\u001b[0m\n\u001b[0m\u001b[1;32m      9\u001b[0m \u001b[0mprice_call\u001b[0m \u001b[0;34m=\u001b[0m \u001b[0mint\u001b[0m\u001b[0;34m(\u001b[0m\u001b[0minput\u001b[0m\u001b[0;34m(\u001b[0m\u001b[0;34m\"Price Call Option:\"\u001b[0m\u001b[0;34m)\u001b[0m\u001b[0;34m)\u001b[0m\u001b[0;34m\u001b[0m\u001b[0;34m\u001b[0m\u001b[0m\n\u001b[1;32m     10\u001b[0m \u001b[0mdirect\u001b[0m\u001b[0;34m=\u001b[0m\u001b[0mint\u001b[0m\u001b[0;34m(\u001b[0m\u001b[0minput\u001b[0m\u001b[0;34m(\u001b[0m\u001b[0;34m'Call Buy/Sell(+/-):'\u001b[0m\u001b[0;34m)\u001b[0m\u001b[0;34m)\u001b[0m\u001b[0;34m\u001b[0m\u001b[0;34m\u001b[0m\u001b[0m\n",
            "\u001b[0;32m/usr/local/lib/python3.9/dist-packages/ipykernel/kernelbase.py\u001b[0m in \u001b[0;36mraw_input\u001b[0;34m(self, prompt)\u001b[0m\n\u001b[1;32m    849\u001b[0m                 \u001b[0;34m\"raw_input was called, but this frontend does not support input requests.\"\u001b[0m\u001b[0;34m\u001b[0m\u001b[0;34m\u001b[0m\u001b[0m\n\u001b[1;32m    850\u001b[0m             )\n\u001b[0;32m--> 851\u001b[0;31m         return self._input_request(str(prompt),\n\u001b[0m\u001b[1;32m    852\u001b[0m             \u001b[0mself\u001b[0m\u001b[0;34m.\u001b[0m\u001b[0m_parent_ident\u001b[0m\u001b[0;34m,\u001b[0m\u001b[0;34m\u001b[0m\u001b[0;34m\u001b[0m\u001b[0m\n\u001b[1;32m    853\u001b[0m             \u001b[0mself\u001b[0m\u001b[0;34m.\u001b[0m\u001b[0m_parent_header\u001b[0m\u001b[0;34m,\u001b[0m\u001b[0;34m\u001b[0m\u001b[0;34m\u001b[0m\u001b[0m\n",
            "\u001b[0;32m/usr/local/lib/python3.9/dist-packages/ipykernel/kernelbase.py\u001b[0m in \u001b[0;36m_input_request\u001b[0;34m(self, prompt, ident, parent, password)\u001b[0m\n\u001b[1;32m    893\u001b[0m             \u001b[0;32mexcept\u001b[0m \u001b[0mKeyboardInterrupt\u001b[0m\u001b[0;34m:\u001b[0m\u001b[0;34m\u001b[0m\u001b[0;34m\u001b[0m\u001b[0m\n\u001b[1;32m    894\u001b[0m                 \u001b[0;31m# re-raise KeyboardInterrupt, to truncate traceback\u001b[0m\u001b[0;34m\u001b[0m\u001b[0;34m\u001b[0m\u001b[0m\n\u001b[0;32m--> 895\u001b[0;31m                 \u001b[0;32mraise\u001b[0m \u001b[0mKeyboardInterrupt\u001b[0m\u001b[0;34m(\u001b[0m\u001b[0;34m\"Interrupted by user\"\u001b[0m\u001b[0;34m)\u001b[0m \u001b[0;32mfrom\u001b[0m \u001b[0;32mNone\u001b[0m\u001b[0;34m\u001b[0m\u001b[0;34m\u001b[0m\u001b[0m\n\u001b[0m\u001b[1;32m    896\u001b[0m             \u001b[0;32mexcept\u001b[0m \u001b[0mException\u001b[0m \u001b[0;32mas\u001b[0m \u001b[0me\u001b[0m\u001b[0;34m:\u001b[0m\u001b[0;34m\u001b[0m\u001b[0;34m\u001b[0m\u001b[0m\n\u001b[1;32m    897\u001b[0m                 \u001b[0mself\u001b[0m\u001b[0;34m.\u001b[0m\u001b[0mlog\u001b[0m\u001b[0;34m.\u001b[0m\u001b[0mwarning\u001b[0m\u001b[0;34m(\u001b[0m\u001b[0;34m\"Invalid Message:\"\u001b[0m\u001b[0;34m,\u001b[0m \u001b[0mexc_info\u001b[0m\u001b[0;34m=\u001b[0m\u001b[0;32mTrue\u001b[0m\u001b[0;34m)\u001b[0m\u001b[0;34m\u001b[0m\u001b[0;34m\u001b[0m\u001b[0m\n",
            "\u001b[0;31mKeyboardInterrupt\u001b[0m: Interrupted by user"
          ]
        }
      ]
    },
    {
      "cell_type": "code",
      "source": [
        "import pandas as pd\n",
        "import numpy as np\n",
        "import matplotlib.pyplot as plt\n",
        "\n",
        "pr_begin= 60000\n",
        "pr_end= 140000\n",
        "print(pr_begin)\n",
        "print(pr_end)\n",
        "\n",
        "st = 112500 #\"Strike Call Option:\"\n",
        "price_call = 2000 #int(input(\"Price Call Option:\"))\n",
        "direct= 10 #int(input('Call Buy/Sell(+/-):'))\n",
        "st_p= 87500 #int(input('Strike Put Option:'))\n",
        "p_put= 1900 #int(input('Price Put Option:'))\n",
        "direct_put= -10 #int(input('Put Buy/Sell(+/-):'))\n",
        "dir_f= 0 # input Futures Positions\n",
        "price_step=1.589\n",
        "p_fut_pos=98000 # input Futures Price\n",
        "\n",
        "def call(x, st, p_call, direct):\n",
        "  if x < st :\n",
        "    pnl=-price_call*direct\n",
        "  else:\n",
        "    pnl=(-price_call+(x-st))*direct\n",
        "  return pnl\n",
        "\n",
        "def put(x, st_p, p_put,direct_put):\n",
        "  if x > st_p :\n",
        "    pnl_p=-p_put*direct_put\n",
        "  else:\n",
        "    pnl_p=(-p_put+(st_p-x))*direct_put\n",
        "  return pnl_p\n",
        "\n",
        "x_values = []\n",
        "y_values = []\n",
        "y1_values = []\n",
        "yf_values = []\n",
        "ysum_values = []\n",
        "\n",
        "for x in range( pr_begin, pr_end, 2500):\n",
        "  y=call(x, st, price_call, direct)*price_step\n",
        "  x_values.append(x)\n",
        "  y_values.append(y)\n",
        "  y1=put(x, st_p, p_put, direct_put)*price_step\n",
        "  y1_values.append(y1)\n",
        "  yf=(x-p_fut_pos)*dir_f*price_step\n",
        "  yf_values.append(yf)\n",
        "  ysum_values.append(y+y1+yf)\n",
        "\n",
        "plt.plot(x_values, y_values, color='red', label='Call')\n",
        "plt.plot(x_values, y1_values, color='blue', label='Put')\n",
        "plt.plot(x_values, yf_values, color='magenta', label='Future')\n",
        "plt.plot(x_values, ysum_values, color='green', label='Sum')\n",
        "plt.plot(x_values, [1]*len(x_values), color='black')\n",
        "plt.xlabel('Price Future ')\n",
        "plt.ylabel('P & L')\n",
        "plt.grid()\n",
        "plt.legend()\n",
        "plt.show()"
      ],
      "metadata": {
        "id": "3pKHsh8u_fXp",
        "colab": {
          "base_uri": "https://localhost:8080/",
          "height": 484
        },
        "outputId": "ff135a3a-7693-4d00-92eb-553cbbd605d1"
      },
      "execution_count": null,
      "outputs": [
        {
          "output_type": "stream",
          "name": "stdout",
          "text": [
            "60000\n",
            "140000\n"
          ]
        },
        {
          "output_type": "display_data",
          "data": {
            "text/plain": [
              "<Figure size 640x480 with 1 Axes>"
            ],
            "image/png": "[encoded data removed]"
          },
          "metadata": {}
        }
      ]
    },
    {
      "cell_type": "markdown",
      "source": [
        "Вычисляет стоимость европейского опциона по модели Блэка-Шоулза:"
      ],
      "metadata": {
        "id": "fl6cLoGzRyrg"
      }
    },
    {
      "cell_type": "code",
      "source": [
        "from math import log, sqrt, exp\n",
        "from scipy.stats import norm\n",
        "\n",
        "def black_scholes(option_type, s, k, t, r, sigma):\n",
        "    \"\"\"\n",
        "    Вычисляет стоимость европейского опциона по модели Блэка-Шоулза.\n",
        "\n",
        "    Parameters\n",
        "    ----------\n",
        "    option_type: str {'call', 'put'}\n",
        "        Тип опциона\n",
        "    s : float\n",
        "        Текущая цена базового актива\n",
        "    k : float\n",
        "        Цена страйка\n",
        "    t : float\n",
        "        Срок до истечения опциона в годах\n",
        "    r : float\n",
        "        Безрисковая процентная ставка\n",
        "    sigma : float\n",
        "        Волатильность\n",
        "\n",
        "    Returns\n",
        "    -------\n",
        "    float\n",
        "        Стоимость опциона\n",
        "    \"\"\"\n",
        "\n",
        "    d1 = (log(s / k) + (r + 0.5 * sigma**2) * t) / (sigma * sqrt(t))\n",
        "    d2 = d1 - sigma * sqrt(t)\n",
        "    \n",
        "    if option_type == 'call':\n",
        "        option_price = s * norm.cdf(d1) - k * exp(-r * t) * norm.cdf(d2)\n",
        "    elif option_type == 'put':\n",
        "        option_price = k * exp(-r * t) * norm.cdf(-d2) - s * norm.cdf(-d1)\n",
        "    else:\n",
        "        raise ValueError('Некорректный тип опциона')\n",
        "\n",
        "    return option_price\n",
        "option_price = black_scholes('call', 96940, 97500, 0.19, 0.075, 0.27)\n",
        "print(\"Стоимость опциона Call:\", option_price)\n",
        "option_price = black_scholes('put', 96940, 97500, 0.19, 0.075, 0.27)\n",
        "print(\"Стоимость опциона Put:\", option_price)"
      ],
      "metadata": {
        "colab": {
          "base_uri": "https://localhost:8080/"
        },
        "id": "88KouOusRKFj",
        "outputId": "3042701e-898f-4dd3-86ca-1d3f53f1dbf9"
      },
      "execution_count": null,
      "outputs": [
        {
          "output_type": "stream",
          "name": "stdout",
          "text": [
            "Стоимость опциона Call: 4951.165394331321\n",
            "Стоимость опциона Put: 4131.642836584542\n"
          ]
        }
      ]
    },
    {
      "cell_type": "markdown",
      "source": [
        "Для расчета цены американского опциона можно использовать алгоритм Биномиального дерева. Пример кода на Python:"
      ],
      "metadata": {
        "id": "F0oy5jLqSCTw"
      }
    },
    {
      "cell_type": "code",
      "source": [
        "# Для расчета цены американского опциона можно использовать алгоритм Биномиального дерева. \n",
        "\n",
        "import numpy as np\n",
        "\n",
        "def american_option(S, K, r, sigma, T, N, option_type='call'):\n",
        "    \"\"\"\n",
        "    Расчет цены американского опциона методом Биномиального дерева.\n",
        "    \n",
        "    S - текущая цена базового актива\n",
        "    K - страйк цена\n",
        "    r - процентная ставка без риска\n",
        "    sigma - волатильность\n",
        "    T - время до истечения опциона в годах\n",
        "    N - количество временных шагов в дереве\n",
        "    option_type - тип опциона (call или put)\n",
        "    \"\"\"\n",
        "    dt = T / N\n",
        "    u = np.exp(sigma * np.sqrt(dt))\n",
        "    d = 1 / u\n",
        "    p = (np.exp(r * dt) - d) / (u - d)\n",
        "\n",
        "    # Создаем дерево цен базового актива\n",
        "    stock_prices = np.zeros((N + 1, N + 1))\n",
        "    for i in range(N + 1):\n",
        "        for j in range(i + 1):\n",
        "            stock_prices[j, i] = round(S * d ** j * u ** (i - j), 2)\n",
        "\n",
        "    # Вычисляем опционную ценность на каждом временном шаге\n",
        "    option_values = np.zeros((N + 1, N + 1))\n",
        "    if option_type == 'call':\n",
        "        option_values[:, N] = np.maximum(stock_prices[:, N] - K, 0)\n",
        "    elif option_type == 'put':\n",
        "        option_values[:, N] = np.maximum(K - stock_prices[:, N], 0)\n",
        "\n",
        "    for i in range(N - 1, -1, -1):\n",
        "        for j in range(i + 1):\n",
        "            if option_type == 'call':\n",
        "                exercise_value = stock_prices[j, i] - K\n",
        "            elif option_type == 'put':\n",
        "                exercise_value = K - stock_prices[j, i]\n",
        "\n",
        "            option_values[j, i] = np.maximum(exercise_value,\n",
        "                                             np.exp(-r * dt) * (p * option_values[j, i+1] + (1 - p) * option_values[j+1, i+1]))\n",
        "    return option_values[0, 0]\n",
        "\n",
        "#Пример использования:\n",
        "# S - текущая цена базового актива\n",
        "S = 96940\n",
        "# K - страйк цена\n",
        "K = 97500\n",
        "# r - процентная ставка без риска (0.075 - 7.5 %)\n",
        "r = 0.075\n",
        "# sigma - волатильность (0.3 - 30 %)\n",
        "sigma = 0.27\n",
        "# T - время до истечения опциона в годах\n",
        "T = 0.19\n",
        "# N - количество временных шагов в дереве\n",
        "N = 100\n",
        "\n",
        "call_price = american_option(S, K, r, sigma, T, N, 'call')\n",
        "print('Цена Call опциона:', round(call_price, 2))\n",
        "\n",
        "put_price = american_option(S, K, r, sigma, T, N, 'put')\n",
        "print('Цена Put опциона:', round(put_price, 2))\n"
      ],
      "metadata": {
        "colab": {
          "base_uri": "https://localhost:8080/"
        },
        "id": "NJFzwQ5TRots",
        "outputId": "dfcf2841-b34c-4930-9f11-e4a863f459f2"
      },
      "execution_count": null,
      "outputs": [
        {
          "output_type": "stream",
          "name": "stdout",
          "text": [
            "Цена Call опциона: 4956.38\n",
            "Цена Put опциона: 4269.23\n"
          ]
        }
      ]
    },
    {
      "cell_type": "markdown",
      "source": [
        "Метод Монте-Карло. Расчет стоимости американских опционов."
      ],
      "metadata": {
        "id": "kaYbLV9-saU6"
      }
    },
    {
      "cell_type": "code",
      "source": [
        "import numpy as np\n",
        "\n",
        "def monte_carlo(S, K, r, t, sigma, option_type, n_simulations=100000):\n",
        "    dt = 1/365\n",
        "    S_t = np.zeros(n_simulations)\n",
        "    S_t.fill(S)\n",
        "    for i in range(int(t/dt)):\n",
        "        random = np.random.normal(size=n_simulations)\n",
        "        S_t *= np.exp((r-0.5*sigma**2)*dt + sigma*np.sqrt(dt)*random)\n",
        "    if option_type == 'call':\n",
        "        payoff = np.maximum(S_t - K, 0)\n",
        "    elif option_type == 'put':\n",
        "        payoff = np.maximum(K - S_t, 0)\n",
        "    price = np.mean(payoff) * np.exp(-r*t)\n",
        "    return price\n",
        "\"\"\"    \n",
        "def monte_carlo(S, K, r, t, sigma, option_type, n_simulations=100000):\n",
        "    dt = 1/365\n",
        "    S_t = np.zeros(n_simulations)\n",
        "    S_t.fill(S)\n",
        "    for i in range(int(t/dt)):\n",
        "        random = np.random.normal(size=n_simulations)\n",
        "        S_t *= np.exp((r-0.5*sigma**2)*dt + sigma*np.sqrt(dt)*random)\n",
        "    payoff = None\n",
        "    if option_type == 'call':\n",
        "        payoff = np.maximum(S_t - K, 0)\n",
        "    elif option_type == 'put':\n",
        "        payoff = np.maximum(K - S_t, 0)\n",
        "    if payoff is None:\n",
        "        return None\n",
        "    price = np.mean(payoff) * np.exp(-r*t)\n",
        "    return price\n",
        "\"\"\"\n",
        "# Пример использования:\n",
        "\n",
        "S = 98040    # current stock price\n",
        "K = 97500    # strike price\n",
        "t = 0.3      # time to maturity in years\n",
        "r = 0.075   # risk-free interest rate\n",
        "sigma = 0.27    # volatility\n",
        "option_type = 'call' # option type ('call' or 'put')\n",
        "n_simulations=100000 # количество симуляций в методе Монте-Карло\n",
        "\n",
        "Option_price_Monte_carlo = monte_carlo(S, K, r, t, sigma, 'call', n_simulations)\n",
        "print(f\"Option Call price from Monte carlo is: {Option_price_Monte_carlo: 0.2f} руб.\")\n",
        "\n",
        "\n",
        "Option_price_Monte_carlo = monte_carlo(S, K, r, t, sigma, 'put', n_simulations)\n",
        "print(f\"Option Put price from Monte carlo is: {Option_price_Monte_carlo: 0.2f} руб.\")"
      ],
      "metadata": {
        "colab": {
          "base_uri": "https://localhost:8080/"
        },
        "id": "puzxHPrhV1Wn",
        "outputId": "fd0b207d-ba83-4275-f9d1-f9715562b909"
      },
      "execution_count": null,
      "outputs": [
        {
          "output_type": "stream",
          "name": "stdout",
          "text": [
            "Option Call price from Monte carlo is:  7166.58 руб.\n",
            "Option Put price from Monte carlo is:  4453.85 руб.\n"
          ]
        }
      ]
    },
    {
      "cell_type": "markdown",
      "source": [
        "Формула для расчета волатильности для американских опционов в Python:\n"
      ],
      "metadata": {
        "id": "p4XrsO3pVp66"
      }
    },
    {
      "cell_type": "code",
      "source": [
        "from math import log, sqrt, exp\n",
        "from scipy.stats import norm\n",
        "\n",
        "def implied_volatility(S, K, T, r, market_price, option_type):\n",
        "    \"\"\"\n",
        "    :param S: текущая цена базового актива\n",
        "    :param K: цена страйк опциона\n",
        "    :param T: время до истечения опциона в годах\n",
        "    :param r: безрисковая процентная ставка\n",
        "    :param market_price: рыночная цена опциона\n",
        "    :param option_type: тип опциона ('call' или 'put')\n",
        "    :return: уровень неявной волатильности\n",
        "    \"\"\"\n",
        "    \n",
        "    # Функция Блэка-Шоулза для оценки стоимости опциона\n",
        "    def black_scholes(S, K, T, r, sigma, option_type):\n",
        "        d1 = (log(S / K) + (r + sigma ** 2 / 2) * T) / (sigma * sqrt(T))\n",
        "        d2 = d1 - sigma * sqrt(T)\n",
        "        if option_type == 'call':\n",
        "            return S * norm.cdf(d1) - K * exp(-r*T) * norm.cdf(d2)\n",
        "        elif option_type == 'put':\n",
        "            return K * exp(-r*T) * norm.cdf(-d2) - S * norm.cdf(-d1)\n",
        "        \n",
        "    # Используем метод бисекции для нахождения уровня подразумеваемой волатильности\n",
        "    def bisection(S, K, T, r, market_price, option_type):\n",
        "        lower_vol, upper_vol = 0.0001, 1\n",
        "        precision = 0.0001\n",
        "        \n",
        "        while (upper_vol - lower_vol) > precision:\n",
        "            mid_vol = (lower_vol + upper_vol) / 2\n",
        "            mid_price = black_scholes(S, K, T, r, mid_vol, option_type)\n",
        "            if mid_price > market_price:\n",
        "                upper_vol = mid_vol \n",
        "            else:\n",
        "                lower_vol = mid_vol\n",
        "        \n",
        "        return mid_vol\n",
        "    \n",
        "    return bisection(S, K, T, r, market_price, option_type)\n",
        "\n",
        "# Пример использования:\n",
        "\n",
        "S = 96940    # current stock price\n",
        "K = 97500    # strike price\n",
        "T = 0.19      # time to maturity in years\n",
        "r = 0.075   # risk-free interest rate\n",
        "market_price = 5760    # market price of the option\n",
        "option_type = 'call' # option type ('call' or 'put')\n",
        "\n",
        "implied_vol = implied_volatility(S, K, T, r, market_price, option_type)\n",
        "\n",
        "print(f\"The implied volatility is: {implied_vol:.2%}\")\n"
      ],
      "metadata": {
        "colab": {
          "base_uri": "https://localhost:8080/"
        },
        "id": "lbrJ4R14S22z",
        "outputId": "e50017b4-5df3-4579-e8ba-fc363e71c230"
      },
      "execution_count": null,
      "outputs": [
        {
          "output_type": "stream",
          "name": "stdout",
          "text": [
            "The implied volatility is: 31.84%\n"
          ]
        }
      ]
    },
    {
      "cell_type": "markdown",
      "source": [
        "Код для расчетов Дельты, Гаммы, Теты, Ро в Python будет выглядеть следующим образом:\n",
        "В этом коде мы используем функции `norm.cdf()` и `norm.pdf()` из модуля `scipy.stats`, чтобы рассчитать значения функций нормального распределения. Чтобы использовать этот код, необходимо установить библиотеку `scipy`."
      ],
      "metadata": {
        "id": "H3kYdn2wRYdi"
      }
    },
    {
      "cell_type": "code",
      "source": [
        "import math\n",
        "import scipy\n",
        "from scipy.stats import norm\n",
        "\n",
        "# Параметры опциона \n",
        "S = 96940 # Текущая цена акции\n",
        "K = 97500 # Цена страйк\n",
        "r = 0.075 # Безрисковая процентная ставка (5%)\n",
        "sigma = 0.270 # Волатильность (20%)\n",
        "T = 0.19 # Время до истечения опциона (1 год)\n",
        "\n",
        "# Расчет дельты\n",
        "d1 = (math.log(S/K) + (r + sigma**2/2)*T) / (sigma*math.sqrt(T))\n",
        "delta = math.exp(-r*T) * norm.cdf(d1)\n",
        "\n",
        "# Расчет гаммы\n",
        "d2 = d1 - sigma*math.sqrt(T)\n",
        "gamma = math.exp(-r*T) * norm.pdf(d1) / (S * sigma * math.sqrt(T))\n",
        "\n",
        "# Расчет теты\n",
        "d3 = (math.log(S/K) + (r + sigma**2/2)*(T-1/365)) / (sigma*math.sqrt(T-1/365))\n",
        "d4 = (math.log(S/K) + (r + sigma**2/2)*(T+1/365)) / (sigma*math.sqrt(T+1/365))\n",
        "theta = -(S * math.exp(-r*T) * norm.pdf(d1) * sigma / (2 * math.sqrt(T))) - r*K*math.exp(-r*T)*norm.cdf(-d2) \n",
        "\n",
        "# Расчет ро\n",
        "d5 = (math.log(S/K) + (r + sigma**2/2)*T) / (sigma*math.sqrt(T))\n",
        "d6 = (math.log(S/K) + (r + sigma**2/2)*T) / (sigma*math.sqrt(T))\n",
        "rho = K * T * math.exp(-r*T)*norm.cdf(d6)\n",
        "\n",
        "# Вывод результатов\n",
        "print(f\"Дельта: {delta:.4f}\")\n",
        "print(f\"Гамма: {gamma:.4f}\")\n",
        "print(f\"Тета: {theta:.4f}\")\n",
        "print(f\"Ро: {rho:.4f}\")\n",
        "\n"
      ],
      "metadata": {
        "colab": {
          "base_uri": "https://localhost:8080/"
        },
        "id": "OspIuoyhtgY7",
        "outputId": "6e049f59-cf02-4a50-ce63-bb8006b29bca"
      },
      "execution_count": null,
      "outputs": [
        {
          "output_type": "stream",
          "name": "stdout",
          "text": [
            "Дельта: 0.5443\n",
            "Гамма: 0.0000\n",
            "Тета: -15273.5680\n",
            "Ро: 10083.0402\n"
          ]
        }
      ]
    },
    {
      "cell_type": "code",
      "source": [
        "from math import log, sqrt, exp\n",
        "from scipy.stats import norm\n",
        "\n",
        "def d1(S, K, r, sigma, T):\n",
        "    return (log(S/K) + (r + sigma**2/2)*T) / (sigma*sqrt(T))\n",
        "\n",
        "def d2(S, K, r, sigma, T):\n",
        "    return d1(S, K, r, sigma, T) - sigma*sqrt(T)\n",
        "\n",
        "def delta(S, K, r, sigma, T, option_type):\n",
        "    if option_type == 'call':\n",
        "        return norm.cdf(d1(S, K, r, sigma, T))\n",
        "    elif option_type == 'put':\n",
        "        return -norm.cdf(-d1(S, K, r, sigma, T))\n",
        "\n",
        "def gamma(S, K, r, sigma, T):\n",
        "    return norm.pdf(d1(S, K, r, sigma, T)) / (S*sigma*sqrt(T))\n",
        "\n",
        "def theta(S, K, r, sigma, T, option_type):\n",
        "    d1_val = d1(S, K, r, sigma, T)\n",
        "    d2_val = d2(S, K, r, sigma, T)\n",
        "    if option_type == 'call':\n",
        "        return (-S*norm.pdf(d1_val)*sigma)/(2*sqrt(T)) - r*K*exp(-r*T)*norm.cdf(d2_val)\n",
        "    elif option_type == 'put':\n",
        "        return (-S*norm.pdf(d1_val)*sigma)/(2*sqrt(T)) + r*K*exp(-r*T)*norm.cdf(-d2_val)\n",
        "\n",
        "def rho(S, K, r, sigma, T, option_type):\n",
        "    d2_val = d2(S, K, r, sigma, T)\n",
        "    if option_type == 'call':\n",
        "        return K*T*exp(-r*T)*norm.cdf(d2_val)\n",
        "    elif option_type == 'put':\n",
        "        return -K*T*exp(-r*T)*norm.cdf(-d2_val)\n",
        "\n",
        "#Пример использования:\n",
        "S = 96940  # Underlying asset price\n",
        "K = 97500  # Strike price\n",
        "r = 0.075  # Risk-free interest rate\n",
        "sigma = 0.27  # Volatility\n",
        "T = 0.19  # Time to maturity\n",
        "\n",
        "# Call option\n",
        "option_type = 'call'\n",
        "print(\"Delta:\", delta(S, K, r, sigma, T, option_type))\n",
        "print(\"Gamma:\", gamma(S, K, r, sigma, T))\n",
        "print(\"Theta:\", theta(S, K, r, sigma, T, option_type))\n",
        "print(\"Rho:\", rho(S, K, r, sigma, T, option_type))\n",
        "\n",
        "# Put option\n",
        "option_type = 'put'\n",
        "print(\"Delta:\", delta(S, K, r, sigma, T, option_type))\n",
        "print(\"Gamma:\", gamma(S, K, r, sigma, T))\n",
        "print(\"Theta:\", theta(S, K, r, sigma, T, option_type))\n",
        "print(\"Rho:\", rho(S, K, r, sigma, T, option_type))\n"
      ],
      "metadata": {
        "colab": {
          "base_uri": "https://localhost:8080/"
        },
        "id": "8ivsWDTXVZK-",
        "outputId": "a8d79a70-3f61-4b38-e4b0-8a70346dfe61"
      },
      "execution_count": null,
      "outputs": [
        {
          "output_type": "stream",
          "name": "stdout",
          "text": [
            "Delta: 0.5521053788414801\n",
            "Gamma: 3.466897678231536e-05\n",
            "Theta: -15518.044690182169\n",
            "Rho: 9228.286705806735\n",
            "Delta: -0.4478946211585199\n",
            "Gamma: 3.466897678231536e-05\n",
            "Theta: -8309.008882013177\n",
            "Rho: -9034.604008221379\n"
          ]
        }
      ]
    },
    {
      "cell_type": "markdown",
      "source": [
        "Библиотека QuanLib. Расчет греков."
      ],
      "metadata": {
        "id": "yCRgIVKatpHF"
      }
    },
    {
      "cell_type": "code",
      "source": [
        "pip install QuantLib"
      ],
      "metadata": {
        "colab": {
          "base_uri": "https://localhost:8080/"
        },
        "id": "OH6K_CjoU8OD",
        "outputId": "c5d02d00-4eb8-413a-a2a4-ada3a2c000d0"
      },
      "execution_count": null,
      "outputs": [
        {
          "output_type": "stream",
          "name": "stdout",
          "text": [
            "Looking in indexes: https://pypi.org/simple, https://us-python.pkg.dev/colab-wheels/public/simple/\n",
            "Collecting QuantLib\n",
            "  Downloading QuantLib-1.29-cp39-cp39-manylinux_2_17_x86_64.manylinux2014_x86_64.whl (18.9 MB)\n",
            "\u001b[2K     \u001b[90m━━━━━━━━━━━━━━━━━━━━━━━━━━━━━━━━━━━━━━━━\u001b[0m \u001b[32m18.9/18.9 MB\u001b[0m \u001b[31m95.1 MB/s\u001b[0m eta \u001b[36m0:00:00\u001b[0m\n",
            "\u001b[?25hInstalling collected packages: QuantLib\n",
            "Successfully installed QuantLib-1.29\n"
          ]
        }
      ]
    },
    {
      "cell_type": "code",
      "source": [
        "from QuantLib.QuantLib import Years\n",
        "import QuantLib as ql\n",
        "\n",
        "def calc_greeks(option_type, S, K, r, sigma, T):\n",
        "    payoff = ql.PlainVanillaPayoff(ql.Option.Call if option_type=='call' else ql.Option.Put, K)\n",
        "    exercise = ql.EuropeanExercise(ql.Date().todaysDate() + ql.Period(int(T*12), ql.Months))\n",
        "    underlying = ql.QuoteHandle(ql.SimpleQuote(S))\n",
        "    risk_free_rate = ql.YieldTermStructureHandle(ql.FlatForward(0, ql.TARGET(), r, ql.Actual365Fixed()))\n",
        "    volatility = ql.BlackVolTermStructureHandle(ql.BlackConstantVol(0, ql.TARGET(), sigma, ql.Actual365Fixed()))\n",
        "    \n",
        "    process = ql.BlackScholesProcess(underlying, risk_free_rate, volatility)\n",
        "    option = ql.VanillaOption(payoff, exercise)\n",
        "    option.setPricingEngine(ql.AnalyticEuropeanEngine(process))\n",
        "    \n",
        "    delta = option.delta()\n",
        "    gamma = option.gamma()\n",
        "    theta = option.thetaPerDay()\n",
        "    rho = option.rho()\n",
        "    \n",
        "    return (delta, gamma, theta, rho)\n",
        "\n",
        "# Пример использования    \n",
        "\n",
        "S = 96940  # Underlying asset price\n",
        "K = 97500  # Strike price\n",
        "r = 0.075  # Risk-free interest rate\n",
        "sigma = 0.27  # Volatility\n",
        "T = 0.19  # Time to maturity\n",
        "\n",
        "# Call option\n",
        "option_type = 'call'\n",
        "delta, gamma, theta, rho = calc_greeks(option_type, S, K, r, sigma, T)\n",
        "print(\"Delta:\", delta)\n",
        "print(\"Gamma:\", gamma)\n",
        "print(\"Theta:\", theta)\n",
        "print(\"Rho:\", rho)\n",
        "\n",
        "# Put option\n",
        "option_type = 'put'\n",
        "delta, gamma, theta, rho = calc_greeks(option_type, S, K, r, sigma, T)\n",
        "print(\"Delta:\", delta)\n",
        "print(\"Gamma:\", gamma)\n",
        "print(\"Theta:\", theta)\n",
        "print(\"Rho:\", rho)\n"
      ],
      "metadata": {
        "colab": {
          "base_uri": "https://localhost:8080/"
        },
        "id": "sCsE6gG3sNSp",
        "outputId": "f0f384e7-b96d-4fe0-9b94-326295aaee21"
      },
      "execution_count": null,
      "outputs": [
        {
          "output_type": "stream",
          "name": "stdout",
          "text": [
            "Delta: 0.546395958830056\n",
            "Gamma: 3.70317764472244e-05\n",
            "Theta: -44.69358621190283\n",
            "Rho: 8085.469307765583\n",
            "Delta: -0.45360404116994374\n",
            "Gamma: 3.70317764472244e-05\n",
            "Theta: -24.90888661428148\n",
            "Rho: -8006.086364966356\n"
          ]
        }
      ]
    },
    {
      "cell_type": "code",
      "source": [
        "# Расчет америанского опциона\n",
        "\n",
        "import QuantLib as ql\n",
        "import math\n",
        "\n",
        "calendar = ql.Russia()\n",
        "bussiness_convention = ql.ModifiedFollowing\n",
        "settlement_days = 0\n",
        "day_count = ql.Actual365Fixed()\n",
        "\n",
        "interest_rate = 0.075\n",
        "calc_date = ql.Date(13,4,2023)\n",
        "yield_curve = ql.FlatForward(calc_date, \n",
        "                             interest_rate,\n",
        "                             day_count,\n",
        "                             ql.Compounded,\n",
        "                             ql.Continuous)\n",
        "\n",
        "ql.Settings.instance().evaluationDate = calc_date\n",
        "option_maturity_date = ql.Date(15,6,2023) # Expire day\n",
        "strike = 97500\n",
        "spot = 98030 # futures price\n",
        "volatility = 31/100.\n",
        "flavor = ql.Option.Call\n",
        "\n",
        "discount = yield_curve.discount(option_maturity_date)\n",
        "strikepayoff = ql.PlainVanillaPayoff(flavor, strike)\n",
        "T = yield_curve.dayCounter().yearFraction(calc_date, \n",
        "                                          option_maturity_date)\n",
        "stddev = volatility*math.sqrt(T)\n",
        "\n",
        "black = ql.BlackCalculator(strikepayoff, \n",
        "                           spot, \n",
        "                           stddev, \n",
        "                           discount)\n",
        "\n",
        "print('\\n','==== Price option ====')\n",
        "print (\"Option Price\", black.value() )\n",
        "\n",
        "print('\\n','==== Greeks Call option ====')\n",
        "print (\"Delta\", black.delta(spot) )\n",
        "print (\"Gamma\", black.gamma(spot) )\n",
        "print (\"Theta\", black.theta(spot, T) )\n",
        "print (\"Vega\", black.vega(T) )\n",
        "print (\"Rho\", black.rho( T) )\n",
        "\n",
        "print('\\n','==== Greeks Call option ====')\n",
        "option_type = 'call'\n",
        "delta, gamma, theta, rho = calc_greeks(option_type, spot, strike, interest_rate, volatility, T)\n",
        "print(\"Delta:\", delta)\n",
        "print(\"Gamma:\", gamma)\n",
        "print(\"Theta:\", theta)\n",
        "print(\"Rho:\", rho)\n",
        "\n",
        "print('\\n','==== Greeks Put option ====')\n",
        "option_type = 'put'\n",
        "delta, gamma, theta, rho = calc_greeks(option_type, spot, strike, interest_rate, volatility, T)\n",
        "print(\"Delta:\", delta)\n",
        "print(\"Gamma:\", gamma)\n",
        "print(\"Theta:\", theta)\n",
        "print(\"Rho:\", rho)\n",
        "print('\\n','Time to maturity:','\\n',T)"
      ],
      "metadata": {
        "colab": {
          "base_uri": "https://localhost:8080/"
        },
        "id": "J20PY_vvBsnt",
        "outputId": "3866cf72-7244-4ff1-efc7-d8d8cd9fb53d"
      },
      "execution_count": null,
      "outputs": [
        {
          "output_type": "stream",
          "name": "stdout",
          "text": [
            "\n",
            " ==== Price option ====\n",
            "Option Price 5222.36242563987\n",
            "\n",
            " ==== Greeks Call option ====\n",
            "Delta 0.5355530935411573\n",
            "Gamma 3.102301102301092e-05\n",
            "Theta -13940.511724450407\n",
            "Vega 15951.860067117526\n",
            "Rho 8160.296334396119\n",
            "\n",
            " ==== Greeks Call option ====\n",
            "Delta: 0.581232439528507\n",
            "Gamma: 3.144423650020245e-05\n",
            "Theta: -50.28939646817331\n",
            "Rho: 8548.029249157335\n",
            "\n",
            " ==== Greeks Put option ====\n",
            "Delta: -0.4187675604714932\n",
            "Gamma: 3.144423650020245e-05\n",
            "Theta: -30.50469687055194\n",
            "Rho: -7543.526423574602\n",
            "\n",
            " Time to maturity: \n",
            " 0.1726027397260274\n"
          ]
        }
      ]
    },
    {
      "cell_type": "code",
      "source": [
        "import QuantLib as ql \n",
        "import matplotlib.pyplot as plt\n",
        "%matplotlib inline\n",
        "\n",
        "\n",
        "# Определяем параметры опционов\n",
        "spot_price = 98030 # Текущая цена базового актива\n",
        "strike_price = 97500 # Цена исполнения опциона\n",
        "risk_free_rate = 0.075 # Безрисковая процентная ставка\n",
        "maturity_date = ql.Date(15, 6, 2023) # Дата погашения опциона\n",
        "today = ql.Date().todaysDate()\n",
        "current_date = today # Дата \n",
        "volatility = 0.3 # Истинная волатильность базового актива\n",
        "\n",
        "# Определяем параметры модели\n",
        "day_count = ql.Actual365Fixed()\n",
        "calendar = ql.UnitedStates(ql.January)\n",
        "\n",
        "# Создаем опцион Call и оцениваем его стоимость\n",
        "payoff = ql.PlainVanillaPayoff(ql.Option.Call, strike_price)\n",
        "exercise = ql.AmericanExercise(current_date, maturity_date)\n",
        "option = ql.VanillaOption(payoff, exercise)\n",
        "\n",
        "underlying = ql.SimpleQuote(spot_price)\n",
        "risk_free_curve = ql.FlatForward(maturity_date, risk_free_rate, day_count)\n",
        "\n",
        "volatility_curve = ql.BlackConstantVol(maturity_date, calendar, volatility, day_count)\n",
        "process = ql.BlackScholesProcess(ql.QuoteHandle(underlying), ql.YieldTermStructureHandle(risk_free_curve), ql.BlackVolTermStructureHandle(volatility_curve))\n",
        "\n",
        "riskFreeTS = ql.YieldTermStructureHandle(ql.FlatForward(today, 0.05, ql.Actual365Fixed()))\n",
        "dividendTS = ql.YieldTermStructureHandle(ql.FlatForward(today, 0.01, ql.Actual365Fixed()))\n",
        "volatility = ql.BlackVolTermStructureHandle(ql.BlackConstantVol(today, ql.NullCalendar(), 0.1, ql.Actual365Fixed()))\n",
        "initialValue = ql.QuoteHandle(ql.SimpleQuote(100))\n",
        "process = ql.BlackScholesMertonProcess(initialValue, dividendTS, riskFreeTS, volatility)\n",
        "\n",
        "steps = 200\n",
        "rng = \"pseudorandom\" # could use \"lowdiscrepancy\"\n",
        "numPaths = 100000\n",
        "\n",
        "engine = ql.MCAmericanEngine(process, rng, steps, requiredSamples=numPaths)\n",
        "option.setPricingEngine(engine)\n",
        "\n",
        "steps = 200\n",
        "binomial_engine = ql.BinomialVanillaEngine(process, \"crr\", steps)\n",
        "option.setPricingEngine(binomial_engine)\n",
        "print(option.NPV())\n",
        "\n",
        "\n",
        "\n",
        "\n"
      ],
      "metadata": {
        "colab": {
          "base_uri": "https://localhost:8080/"
        },
        "id": "PkbPu6M3s9Tg",
        "outputId": "6dc0760f-812b-4e0d-c64e-adf31d717242"
      },
      "execution_count": null,
      "outputs": [
        {
          "output_type": "stream",
          "name": "stdout",
          "text": [
            "0.0\n"
          ]
        }
      ]
    },
    {
      "cell_type": "code",
      "source": [
        "import QuantLib as ql\n",
        "\n",
        "# Фиксируем даты\n",
        "calendar = ql.Russia()\n",
        "option_date = ql.Date(15, ql.April, 2023) # Current date\n",
        "evaluation_date = calendar.advance(option_date, ql.Period(-1, ql.Days))\n",
        "\n",
        "# Определяем параметры модели\n",
        "day_count = ql.Actual365Fixed()\n",
        "\n",
        "# Создаем опцион и оцениваем его стоимость\n",
        "option_type = ql.Option.Put\n",
        "underlying_price = 98040\n",
        "strike_price = 97500\n",
        "expiration_date = ql.Date(15, ql.June, 2023)\n",
        "volatility = 0.3\n",
        "dividend_rate = 0.00\n",
        "risk_free_rate = 0.075\n",
        "\n",
        "payoff = ql.PlainVanillaPayoff(option_type, strike_price)\n",
        "exercise = ql.EuropeanExercise(expiration_date)\n",
        "option = ql.VanillaOption(payoff, exercise)\n",
        "\n",
        "spot_handle = ql.QuoteHandle(ql.SimpleQuote(underlying_price))\n",
        "flat_vol_ts = ql.BlackVolTermStructureHandle(\n",
        "    ql.BlackConstantVol(evaluation_date, calendar, volatility, day_count)\n",
        ")\n",
        "flat_ts = ql.YieldTermStructureHandle(\n",
        "    ql.FlatForward(evaluation_date, ql.QuoteHandle(ql.SimpleQuote(risk_free_rate)), day_count)\n",
        ")\n",
        "flat_dividend_ts = ql.YieldTermStructureHandle(\n",
        "    ql.FlatForward(evaluation_date, ql.QuoteHandle(ql.SimpleQuote(dividend_rate)), day_count)\n",
        ")\n",
        "bsm_process = ql.BlackScholesMertonProcess(spot_handle, flat_dividend_ts, flat_ts, flat_vol_ts)\n",
        "option.setPricingEngine(ql.AnalyticEuropeanEngine(bsm_process))\n",
        "\n",
        "print(f\"The option price is: {option.NPV():0.2f}\")\n",
        "\n",
        "# Рассчитываем подразумеваемую волатильность\n",
        "implied_vol = option.impliedVolatility(option.NPV(), bsm_process)\n",
        "\n",
        "print(f\"Implied volatility: {implied_vol: .2} %\")"
      ],
      "metadata": {
        "colab": {
          "base_uri": "https://localhost:8080/"
        },
        "id": "RzQruiGSu3m0",
        "outputId": "66c62524-113d-47a8-af62-57fb72728ee9"
      },
      "execution_count": null,
      "outputs": [
        {
          "output_type": "stream",
          "name": "stdout",
          "text": [
            "The option price is: 3954.12\n",
            "Implied volatility:  0.3 %\n"
          ]
        }
      ]
    },
    {
      "cell_type": "markdown",
      "source": [
        "В этом примере мы рассчитываем стоимость american опциона на покупку (call option) с параметрами, которые можно увидеть в коде. После этого мы рассчитываем подразумеваемую волатильность для данного опциона."
      ],
      "metadata": {
        "id": "-gEdz-CIX8sk"
      }
    },
    {
      "cell_type": "code",
      "source": [
        "import QuantLib as ql\n",
        "\n",
        "today = ql.Date().todaysDate()\n",
        "ql.Settings.instance().evaluationDate = today\n",
        "\n",
        "# Определяем параметры модели\n",
        "day_count = ql.Actual365Fixed()\n",
        "calendar = ql.UnitedStates(ql.January)\n",
        "calculation_date = ql.Date(13, 4, 2023)\n",
        "expired_date = ql.Date(15, 6, 2023)\n",
        "\n",
        "# Определяем инструменты для анализа\n",
        "spot_price = 98200.0\n",
        "strike_price = 97500.0\n",
        "volatility = 0.3\n",
        "risk_free_rate = 0.075\n",
        "dividend_rate = 0.0\n",
        "option_type = ql.Option.Call\n",
        "\n",
        "payoff = ql.PlainVanillaPayoff(option_type, strike_price)\n",
        "exercise = ql.AmericanExercise(calculation_date, expired_date)\n",
        "option = ql.VanillaOption(payoff, exercise)\n",
        "\n",
        "# Определяем процесс и модель\n",
        "spot_handle = ql.QuoteHandle(\n",
        "    ql.SimpleQuote(spot_price)\n",
        ")\n",
        "flat_ts = ql.YieldTermStructureHandle(\n",
        "    ql.FlatForward(calculation_date, risk_free_rate, day_count)\n",
        ")\n",
        "dividend_yield = ql.YieldTermStructureHandle(\n",
        "    ql.FlatForward(calculation_date, dividend_rate, day_count)\n",
        ")\n",
        "flat_vol_ts = ql.BlackVolTermStructureHandle(\n",
        "    ql.BlackConstantVol(calculation_date, calendar, volatility, day_count)\n",
        ")\n",
        "\n",
        "bsm_process = ql.BlackScholesMertonProcess(\n",
        "    spot_handle, dividend_yield, flat_ts, flat_vol_ts\n",
        ")\n",
        "\n",
        "# Рассчитываем цену опциона\n",
        "steps = 200\n",
        "binomial_engine = ql.BinomialVanillaEngine(bsm_process, \"crr\", steps)\n",
        "american_option.setPricingEngine(binomial_engine)\n",
        "print (american_option.NPV())\n"
      ],
      "metadata": {
        "colab": {
          "base_uri": "https://localhost:8080/"
        },
        "id": "brrdp-UCw5uh",
        "outputId": "e40def56-8484-4296-9c12-c7a3359f2b1c"
      },
      "execution_count": null,
      "outputs": [
        {
          "output_type": "stream",
          "name": "stdout",
          "text": [
            "4017.8182543644075\n"
          ]
        }
      ]
    },
    {
      "cell_type": "markdown",
      "source": [
        "пример кода на Python для расчета стоимости американского опциона с использованием модели Блэка-Шоулз и определения волатильности через QUANLIB:\n"
      ],
      "metadata": {
        "id": "OKo8Fc65yhXi"
      }
    },
    {
      "cell_type": "code",
      "source": [
        "import QuantLib as ql\n",
        "from QuantLib import MCAmericanEngine, AmericanExercise, PlainVanillaPayoff, BlackScholesMertonProcess, YieldTermStructureHandle, \\\n",
        "    SimpleQuote, QuoteHandle, BlackVolTermStructureHandle, Option\n",
        "\n",
        "\n",
        "# Определяем параметры модели\n",
        "day_count = ql.Actual365Fixed()\n",
        "calendar = ql.UnitedStates(ql.January)\n",
        "\n",
        "calculation_date = ql.Date(1, 5, 2023)\n",
        "option_maturity = ql.Date(1, 7, 2023)\n",
        "\n",
        "spot_price = 50\n",
        "strike_price = 55\n",
        "volatility = 0.25\n",
        "dividend_rate = 0.0\n",
        "risk_free_rate = 0.01\n",
        "\n",
        "payoff = ql.PlainVanillaPayoff(ql.Option.Call, strike_price)\n",
        "exercise = ql.AmericanExercise(calculation_date, option_maturity)\n",
        "\n",
        "underlying = ql.SimpleQuote(spot_price)\n",
        "volatility_quote = ql.SimpleQuote(volatility)\n",
        "dividend_rate_quote = ql.SimpleQuote(dividend_rate)\n",
        "risk_free_rate_quote = ql.SimpleQuote(risk_free_rate)\n",
        "\n",
        "u = ql.QuoteHandle(underlying)\n",
        "r = ql.YieldTermStructureHandle(ql.FlatForward(calculation_date, ql.QuoteHandle(risk_free_rate_quote), day_count))\n",
        "q = ql.YieldTermStructureHandle(ql.FlatForward(calculation_date, ql.QuoteHandle(dividend_rate_quote), day_count))\n",
        "sigma = ql.BlackVolTermStructureHandle(ql.BlackConstantVol(calculation_date, calendar, ql.QuoteHandle(volatility_quote), day_count))\n",
        "\n",
        "process = ql.BlackScholesMertonProcess(u, q, r, sigma)\n",
        "\n",
        "option = ql.VanillaOption(payoff, exercise)\n",
        "\n",
        "mc_traits = ql.MCAmericanEngine(process,1,0.02)\n",
        "mc_traits.requiredSamples = 1\n",
        "mc_traits.maxSamples = 1048576\n",
        "mc_traits.seed = 42\n",
        "mc_traits.antitheticVariate = True\n",
        "\n",
        "option.setPricingEngine(ql.MCAmericanEngine(process,traits=mc_traits, timeStepsPerYear=48))\n",
        "\n",
        "# Рассчитываем стоимость опциона\n",
        "option_price = option.NPV()\n",
        "\n",
        "print(\"Цена американского опциона составляет:\", option_price)\n",
        "\n",
        "# Рассчитываем подразумеваемую волатильность\n",
        "implied_vol = option.impliedVolatility(option.NPV(), process)\n",
        "\n",
        "print(\"Implied volatility: \", implied_vol)"
      ],
      "metadata": {
        "colab": {
          "base_uri": "https://localhost:8080/",
          "height": 373
        },
        "id": "Lme8hnmbyJds",
        "outputId": "0dc0b03f-74f3-4289-fa13-ac8883427c83"
      },
      "execution_count": null,
      "outputs": [
        {
          "output_type": "error",
          "ename": "AttributeError",
          "evalue": "ignored",
          "traceback": [
            "\u001b[0;31m---------------------------------------------------------------------------\u001b[0m",
            "\u001b[0;31mAttributeError\u001b[0m                            Traceback (most recent call last)",
            "\u001b[0;32m<ipython-input-18-f261630f8a1c>\u001b[0m in \u001b[0;36m<cell line: 36>\u001b[0;34m()\u001b[0m\n\u001b[1;32m     34\u001b[0m \u001b[0moption\u001b[0m \u001b[0;34m=\u001b[0m \u001b[0mql\u001b[0m\u001b[0;34m.\u001b[0m\u001b[0mVanillaOption\u001b[0m\u001b[0;34m(\u001b[0m\u001b[0mpayoff\u001b[0m\u001b[0;34m,\u001b[0m \u001b[0mexercise\u001b[0m\u001b[0;34m)\u001b[0m\u001b[0;34m\u001b[0m\u001b[0;34m\u001b[0m\u001b[0m\n\u001b[1;32m     35\u001b[0m \u001b[0;34m\u001b[0m\u001b[0m\n\u001b[0;32m---> 36\u001b[0;31m \u001b[0mmc_traits\u001b[0m \u001b[0;34m=\u001b[0m \u001b[0mql\u001b[0m\u001b[0;34m.\u001b[0m\u001b[0mMCAmericanEngine\u001b[0m\u001b[0;34m(\u001b[0m\u001b[0mprocess\u001b[0m\u001b[0;34m,\u001b[0m\u001b[0;36m1\u001b[0m\u001b[0;34m,\u001b[0m\u001b[0;36m0.02\u001b[0m\u001b[0;34m)\u001b[0m\u001b[0;34m\u001b[0m\u001b[0;34m\u001b[0m\u001b[0m\n\u001b[0m\u001b[1;32m     37\u001b[0m \u001b[0mmc_traits\u001b[0m\u001b[0;34m.\u001b[0m\u001b[0mrequiredSamples\u001b[0m \u001b[0;34m=\u001b[0m \u001b[0;36m1\u001b[0m\u001b[0;34m\u001b[0m\u001b[0;34m\u001b[0m\u001b[0m\n\u001b[1;32m     38\u001b[0m \u001b[0mmc_traits\u001b[0m\u001b[0;34m.\u001b[0m\u001b[0mmaxSamples\u001b[0m \u001b[0;34m=\u001b[0m \u001b[0;36m1048576\u001b[0m\u001b[0;34m\u001b[0m\u001b[0;34m\u001b[0m\u001b[0m\n",
            "\u001b[0;32m/usr/local/lib/python3.9/dist-packages/QuantLib/QuantLib.py\u001b[0m in \u001b[0;36mMCAmericanEngine\u001b[0;34m(process, traits, timeSteps, timeStepsPerYear, antitheticVariate, controlVariate, requiredSamples, requiredTolerance, maxSamples, seed, polynomOrder, polynomType, nCalibrationSamples, antitheticVariateCalibration, seedCalibration)\u001b[0m\n\u001b[1;32m  17180\u001b[0m                      \u001b[0mantitheticVariateCalibration\u001b[0m\u001b[0;34m=\u001b[0m\u001b[0;32mNone\u001b[0m\u001b[0;34m,\u001b[0m\u001b[0;34m\u001b[0m\u001b[0;34m\u001b[0m\u001b[0m\n\u001b[1;32m  17181\u001b[0m                      seedCalibration=None):\n\u001b[0;32m> 17182\u001b[0;31m     \u001b[0mtraits\u001b[0m \u001b[0;34m=\u001b[0m \u001b[0mtraits\u001b[0m\u001b[0;34m.\u001b[0m\u001b[0mlower\u001b[0m\u001b[0;34m(\u001b[0m\u001b[0;34m)\u001b[0m\u001b[0;34m\u001b[0m\u001b[0;34m\u001b[0m\u001b[0m\n\u001b[0m\u001b[1;32m  17183\u001b[0m     \u001b[0;32mif\u001b[0m \u001b[0mtraits\u001b[0m \u001b[0;34m==\u001b[0m \u001b[0;34m\"pr\"\u001b[0m \u001b[0;32mor\u001b[0m \u001b[0mtraits\u001b[0m \u001b[0;34m==\u001b[0m \u001b[0;34m\"pseudorandom\"\u001b[0m\u001b[0;34m:\u001b[0m\u001b[0;34m\u001b[0m\u001b[0;34m\u001b[0m\u001b[0m\n\u001b[1;32m  17184\u001b[0m         \u001b[0mcls\u001b[0m \u001b[0;34m=\u001b[0m \u001b[0mMCPRAmericanEngine\u001b[0m\u001b[0;34m\u001b[0m\u001b[0;34m\u001b[0m\u001b[0m\n",
            "\u001b[0;31mAttributeError\u001b[0m: 'int' object has no attribute 'lower'"
          ]
        }
      ]
    },
    {
      "cell_type": "markdown",
      "source": [
        "\n",
        "Если нужно рассчитать волатильность для американского опциона, нужно заменить строку `ql.VanillaOption(payoff, exercise)` в коде выше на `ql.AmericanOption(payoff, exercise)` и удалить строчку `option.setPricingEngine(ql.BaroneAdesiWhaleyEngine(process))`, к тому же, модель расчета Black-Scholes-Merton для американских опционов не подходит, нужно использовать другую модель, например, Longstaff-Schwartz algorithm. "
      ],
      "metadata": {
        "id": "QADOh2NKzgAI"
      }
    },
    {
      "cell_type": "code",
      "source": [
        "from numpy.lib.type_check import real\n",
        "import QuantLib as ql\n",
        "import pandas as pd\n",
        "\n",
        "# Определяем параметры модели\n",
        "day_count = ql.Actual365Fixed()\n",
        "calendar = ql.Russia()\n",
        "calculation_date = ql.Date.todaysDate()\n",
        "ql.Settings.instance().evaluationDate = calculation_date\n",
        "\n",
        "# Загрузка данных из таблицы\n",
        "df = pd.read_csv(\"Option.csv\", sep=\",\")\n",
        "df[['Спрос CALL','Предложение CALL', 'Теор. цена CALL', 'Расч. премия CALL', 'Расч. премия PUT', 'Теор. цена PUT', 'Спрос PUT', 'Предложение PUT']] = df[['Спрос CALL','Предложение CALL', 'Теор. цена CALL', 'Расч. премия CALL', 'Расч. премия PUT', 'Теор. цена PUT', 'Спрос PUT', 'Предложение PUT']].replace(\",\", \".\", regex=True)\n",
        "df[['Страйк']] = df[['Страйк']].replace(\",\", \"\", regex=True)\n",
        "df = df[['Теор. цена CALL', 'Расч. премия CALL','Страйк','Расч. премия PUT', 'Теор. цена PUT']]\n",
        "\n",
        "\n",
        "spot_price = 98000\n",
        "strike_price = 125500\n",
        "expiration_date = ql.Date(15, 6, 2023)\n",
        "option_type = ql.Option.Call\n",
        "risk_free_rate = 0.075\n",
        "dividend_rate = 0.0\n",
        "option_value = 5300\n",
        "\n",
        "\n",
        "payoff = ql.PlainVanillaPayoff(option_type, strike_price)\n",
        "exercise = ql.AmericanExercise(calculation_date, expiration_date)\n",
        "option = ql.VanillaOption(payoff, exercise)\n",
        "\n",
        "spot_handle = ql.QuoteHandle(\n",
        "    ql.SimpleQuote(spot_price)\n",
        ")\n",
        "flat_ts = ql.YieldTermStructureHandle(\n",
        "    ql.FlatForward(\n",
        "        calculation_date, \n",
        "        ql.QuoteHandle(ql.SimpleQuote(risk_free_rate)), \n",
        "        day_count\n",
        "    )\n",
        ")\n",
        "dividend_yield = ql.YieldTermStructureHandle(\n",
        "    ql.FlatForward(\n",
        "        calculation_date, \n",
        "        ql.QuoteHandle(ql.SimpleQuote(dividend_rate)), \n",
        "        day_count\n",
        "    )\n",
        ")\n",
        "flat_vol_ts = ql.BlackVolTermStructureHandle(\n",
        "    ql.BlackConstantVol(\n",
        "        calculation_date, \n",
        "        calendar, \n",
        "        0.2, \n",
        "        day_count\n",
        "    )\n",
        ")\n",
        "bsm_process = ql.BlackScholesMertonProcess(\n",
        "    spot_handle, dividend_yield, flat_ts, flat_vol_ts\n",
        ")\n",
        "\n",
        "\n",
        "# Рассчитываем подразумеваемую волатильность\n",
        "implied_vol = option.impliedVolatility(option_value, bsm_process)\n",
        "\n",
        "print(\"Implied volatility: \", implied_vol)\n"
      ],
      "metadata": {
        "colab": {
          "base_uri": "https://localhost:8080/"
        },
        "id": "Az9V9rtdyt3d",
        "outputId": "125d1819-d6c0-4151-807c-8a29efd1b69a"
      },
      "execution_count": null,
      "outputs": [
        {
          "output_type": "stream",
          "name": "stdout",
          "text": [
            "Implied volatility:  0.81768697323652\n"
          ]
        }
      ]
    },
    {
      "cell_type": "code",
      "source": [
        "\"\"\"Для фиксации ошибки и определения проблемы с импортом класса MCAmericanEngine рекомендуется выполнить следующие шаги:\n",
        "\n",
        "1. Проверьте версию QuantLib. В классе MCAmericanEngine необходима версия QuantLib 1.12 и выше. Если у вас установлена более старая версия, попробуйте обновить ее до последней версии.\n",
        "\n",
        "2. Убедитесь, что вы импортировали класс MCAmericanEngine правильно. Команда \n",
        "\"\"\"\n",
        "import QuantLib as ql \n",
        "\"\"\"\n",
        "должна быть выполнена перед использованием класса MCAmericanEngine. \n",
        "\n",
        "Вы можете выполнить следующую команду для явного импортирования класса:\n",
        "\n",
        "\n",
        "from QuantLib import MCAmericanEngine, AmericanExercise, PlainVanillaPayoff, BlackScholesMertonProcess, YieldTermStructureHandle, \\\n",
        "    SimpleQuote, QuoteHandle, BlackVolTermStructureHandle, Option, Option_Call\n",
        "\n",
        "\n",
        "3. Используйте атрибут и свойства классов правильно. В частности, убедитесь, что атрибут traits (характеристики) передается корректно в качестве аргумента в MCAmericanEngine.\n",
        "\n",
        "Ниже представлен исправленный код, где используется явный импорт классов и передача атрибута traits в MCAmericanEngine:\n",
        "\n",
        "\"\"\"\n",
        "from QuantLib import MCAmericanEngine, AmericanExercise, PlainVanillaPayoff, BlackScholesMertonProcess, YieldTermStructureHandle, \\\n",
        "    SimpleQuote, QuoteHandle, BlackVolTermStructureHandle\n",
        "\n",
        "day_count = ql.Actual365Fixed()\n",
        "calendar = ql.UnitedStates(ql.January)\n",
        "\n",
        "calculation_date = ql.Date(1, 5, 2023)\n",
        "option_maturity = ql.Date(1, 7, 2023)\n",
        "\n",
        "spot_price = 50\n",
        "strike_price = 55\n",
        "volatility = 0.25\n",
        "dividend_rate = 0.0\n",
        "risk_free_rate = 0.01\n",
        "\n",
        "payoff = PlainVanillaPayoff(Option.Call, strike_price)\n",
        "exercise = AmericanExercise(calculation_date, option_maturity)\n",
        "option = ql.VanillaOption(payoff, exercise)\n",
        "\n",
        "underlying = SimpleQuote(spot_price)\n",
        "volatility_quote = SimpleQuote(volatility)\n",
        "dividend_rate_quote = SimpleQuote(dividend_rate)\n",
        "risk_free_rate_quote = SimpleQuote(risk_free_rate)\n",
        "\n",
        "u = QuoteHandle(underlying)\n",
        "r = YieldTermStructureHandle(ql.FlatForward(calculation_date, QuoteHandle(risk_free_rate_quote), day_count))\n",
        "q = YieldTermStructureHandle(ql.FlatForward(calculation_date, QuoteHandle(dividend_rate_quote), day_count))\n",
        "sigma = BlackVolTermStructureHandle(ql.BlackConstantVol(calculation_date, calendar, QuoteHandle(volatility_quote), day_count))\n",
        "\n",
        "process = BlackScholesMertonProcess(u, q, r, sigma)\n",
        "\n",
        "mc_traits = ql.MCEuropeanEngineTraits()\n",
        "mc_traits.requiredSamples = 96940\n",
        "mc_traits.maxSamples = 97500\n",
        "mc_traits.seed = 42\n",
        "mc_traits.antitheticVariate = True\n",
        "\n",
        "engine = MCAmericanEngine(process, traits=mc_traits, timeStepsPerYear=48)    \n",
        "option.setPricingEngine(engine)\n",
        "\n",
        "# Рассчитываем стоимость опциона\n",
        "option_price = option.NPV()\n",
        "\n",
        "print(\"Цена американского опциона составляет:\", option_price)"
      ],
      "metadata": {
        "colab": {
          "base_uri": "https://localhost:8080/",
          "height": 235
        },
        "id": "Pwj4qQLC0ROL",
        "outputId": "0bb894f6-5dd4-400d-ad80-e5438838895a"
      },
      "execution_count": null,
      "outputs": [
        {
          "output_type": "error",
          "ename": "AttributeError",
          "evalue": "ignored",
          "traceback": [
            "\u001b[0;31m---------------------------------------------------------------------------\u001b[0m",
            "\u001b[0;31mAttributeError\u001b[0m                            Traceback (most recent call last)",
            "\u001b[0;32m<ipython-input-23-4e9f49fda141>\u001b[0m in \u001b[0;36m<cell line: 54>\u001b[0;34m()\u001b[0m\n\u001b[1;32m     52\u001b[0m \u001b[0mprocess\u001b[0m \u001b[0;34m=\u001b[0m \u001b[0mBlackScholesMertonProcess\u001b[0m\u001b[0;34m(\u001b[0m\u001b[0mu\u001b[0m\u001b[0;34m,\u001b[0m \u001b[0mq\u001b[0m\u001b[0;34m,\u001b[0m \u001b[0mr\u001b[0m\u001b[0;34m,\u001b[0m \u001b[0msigma\u001b[0m\u001b[0;34m)\u001b[0m\u001b[0;34m\u001b[0m\u001b[0;34m\u001b[0m\u001b[0m\n\u001b[1;32m     53\u001b[0m \u001b[0;34m\u001b[0m\u001b[0m\n\u001b[0;32m---> 54\u001b[0;31m \u001b[0mmc_traits\u001b[0m \u001b[0;34m=\u001b[0m \u001b[0mql\u001b[0m\u001b[0;34m.\u001b[0m\u001b[0mMCEuropeanEngineTraits\u001b[0m\u001b[0;34m(\u001b[0m\u001b[0;34m)\u001b[0m\u001b[0;34m\u001b[0m\u001b[0;34m\u001b[0m\u001b[0m\n\u001b[0m\u001b[1;32m     55\u001b[0m \u001b[0mmc_traits\u001b[0m\u001b[0;34m.\u001b[0m\u001b[0mrequiredSamples\u001b[0m \u001b[0;34m=\u001b[0m \u001b[0;36m96940\u001b[0m\u001b[0;34m\u001b[0m\u001b[0;34m\u001b[0m\u001b[0m\n\u001b[1;32m     56\u001b[0m \u001b[0mmc_traits\u001b[0m\u001b[0;34m.\u001b[0m\u001b[0mmaxSamples\u001b[0m \u001b[0;34m=\u001b[0m \u001b[0;36m97500\u001b[0m\u001b[0;34m\u001b[0m\u001b[0;34m\u001b[0m\u001b[0m\n",
            "\u001b[0;31mAttributeError\u001b[0m: module 'QuantLib' has no attribute 'MCEuropeanEngineTraits'"
          ]
        }
      ]
    },
    {
      "cell_type": "code",
      "source": [
        "\"\"\"\n",
        "Функция ql.MCAmericanEngine (Monte Carlo American Engine) в библиотеке QuantLib используется \n",
        "для оценки американских опционов с помощью метода Монте-Карло. Она моделирует динамику цены базового актива, \n",
        "используя стохастический процесс, и для каждой траектории определяет момент наибольшей выгоды для держателя опциона - момент, \n",
        "когда стоимость опциона достигает максимума. Затем опцион оценивается по методу дисконтирования.\n",
        "\n",
        "Ниже приведен пример использования функции ql.MCAmericanEngine для оценки американского опциона на покупку акций.\n",
        "\n",
        "\"\"\"\n",
        "import QuantLib as ql\n",
        "\n",
        "calendar = ql.UnitedStates(ql.January)\n",
        "today = ql.Date().todaysDate()\n",
        "ql.Settings.instance().evaluationDate = today\n",
        "risk_free_rate = ql.FlatForward(today, 0.05, ql.ActualActual(ql.ActualActual.ISDA))\n",
        "\n",
        "underlying = ql.SimpleQuote(96940.0)\n",
        "volatility = ql.BlackConstantVol(today, ql.NullCalendar(), 0.27, ql.ActualActual(ql.ActualActual.ISDA))\n",
        "dividend_yield = ql.FlatForward(today, 0.01, ql.ActualActual(ql.ActualActual.ISDA))\n",
        "\n",
        "exercise = ql.AmericanExercise(today, ql.Date(15, 6, 2023))\n",
        "payoff = ql.PlainVanillaPayoff(ql.Option.Call, 97500.0)\n",
        "\n",
        "option = ql.DividendVanillaOption(payoff, exercise, [dividend_yield], underlying, volatility)\n",
        "\n",
        "time_steps = 1000\n",
        "num_paths = 100000\n",
        "\n",
        "engine = ql.MCAmericanEngine(\n",
        "    ql.GeneralizedBlackScholesProcess(ql.QuoteHandle(underlying),\n",
        "                                      ql.YieldTermStructureHandle(dividend_yield),\n",
        "                                      ql.YieldTermStructureHandle(risk_free_rate),\n",
        "                                      ql.BlackVolTermStructureHandle(volatility)),\n",
        "    \"pseudorandom\",\n",
        "    timeSteps=time_steps,\n",
        "    requiredSamples=num_paths,\n",
        "    seed=42\n",
        ")\n",
        "\n",
        "option.setPricingEngine(engine)\n",
        "print(\"Option price:\", option.NPV())\n",
        "\"\"\"\n",
        "\n",
        "В этом примере мы создаем объекты для базового актива (`underlying`), волатильности (`volatility`) и \n",
        "дивидендов (`dividend_yield`), а также для условий исполнения (`exercise`) и выплаты (`payoff`), \n",
        "чтобы создать объект американского опциона (`option`). Затем мы задаем параметры для метода Монте-Карло (`time_steps`, `num_paths`) и \n",
        "создаем экземпляр класса `MCAmericanEngine`. Наконец, мы применяем движок к опциону (`setPricingEngine`) и выводим его цену (`NPV`).\n",
        "\"\"\""
      ],
      "metadata": {
        "colab": {
          "base_uri": "https://localhost:8080/",
          "height": 235
        },
        "id": "0__I-A55uQkJ",
        "outputId": "f2c966b1-f9d6-43f0-d0a5-ccc3cf12c5e4"
      },
      "execution_count": null,
      "outputs": [
        {
          "output_type": "error",
          "ename": "TypeError",
          "evalue": "ignored",
          "traceback": [
            "\u001b[0;31m---------------------------------------------------------------------------\u001b[0m",
            "\u001b[0;31mTypeError\u001b[0m                                 Traceback (most recent call last)",
            "\u001b[0;32m<ipython-input-43-ee4e2ceb9153>\u001b[0m in \u001b[0;36m<cell line: 24>\u001b[0;34m()\u001b[0m\n\u001b[1;32m     22\u001b[0m \u001b[0mpayoff\u001b[0m \u001b[0;34m=\u001b[0m \u001b[0mql\u001b[0m\u001b[0;34m.\u001b[0m\u001b[0mPlainVanillaPayoff\u001b[0m\u001b[0;34m(\u001b[0m\u001b[0mql\u001b[0m\u001b[0;34m.\u001b[0m\u001b[0mOption\u001b[0m\u001b[0;34m.\u001b[0m\u001b[0mCall\u001b[0m\u001b[0;34m,\u001b[0m \u001b[0;36m97500.0\u001b[0m\u001b[0;34m)\u001b[0m\u001b[0;34m\u001b[0m\u001b[0;34m\u001b[0m\u001b[0m\n\u001b[1;32m     23\u001b[0m \u001b[0;34m\u001b[0m\u001b[0m\n\u001b[0;32m---> 24\u001b[0;31m \u001b[0moption\u001b[0m \u001b[0;34m=\u001b[0m \u001b[0mql\u001b[0m\u001b[0;34m.\u001b[0m\u001b[0mDividendVanillaOption\u001b[0m\u001b[0;34m(\u001b[0m\u001b[0mpayoff\u001b[0m\u001b[0;34m,\u001b[0m \u001b[0mexercise\u001b[0m\u001b[0;34m,\u001b[0m \u001b[0;34m[\u001b[0m\u001b[0mdividend_yield\u001b[0m\u001b[0;34m]\u001b[0m\u001b[0;34m,\u001b[0m \u001b[0munderlying\u001b[0m\u001b[0;34m,\u001b[0m \u001b[0mvolatility\u001b[0m\u001b[0;34m)\u001b[0m\u001b[0;34m\u001b[0m\u001b[0;34m\u001b[0m\u001b[0m\n\u001b[0m\u001b[1;32m     25\u001b[0m \u001b[0;34m\u001b[0m\u001b[0m\n\u001b[1;32m     26\u001b[0m \u001b[0mtime_steps\u001b[0m \u001b[0;34m=\u001b[0m \u001b[0;36m1000\u001b[0m\u001b[0;34m\u001b[0m\u001b[0;34m\u001b[0m\u001b[0m\n",
            "\u001b[0;31mTypeError\u001b[0m: __init__() takes 5 positional arguments but 6 were given"
          ]
        }
      ]
    },
    {
      "cell_type": "code",
      "source": [
        "import QuantLib as ql\n",
        "\n",
        "today = ql.Date().todaysDate()\n",
        "ql.Settings.instance().evaluationDate = today\n",
        "\n",
        "# Определяем параметры модели\n",
        "day_count = ql.Actual365Fixed()\n",
        "calendar = ql.UnitedStates(ql.January)\n",
        "calculation_date = ql.Date(15, 4, 2023)\n",
        "\n",
        "# Определяем инструменты для анализа\n",
        "option_type = ql.Option.Put\n",
        "strike_price = 97500.0\n",
        "\n",
        "payoff = ql.PlainVanillaPayoff(option_type, strike_price)\n",
        "exercise = ql.AmericanExercise(calculation_date, ql.Date(15, 6, 2023))\n",
        "american_option = ql.VanillaOption(payoff, exercise)\n",
        "\n",
        "# Определяем процесс и модель\n",
        "spot_price = 98040.0\n",
        "risk_free_rate = 0.075\n",
        "dividend_rate = 0.0\n",
        "volatility = 0.3\n",
        "\n",
        "spot_handle = ql.QuoteHandle(ql.SimpleQuote(spot_price))\n",
        "rate_yield = ql.YieldTermStructureHandle(ql.FlatForward(calculation_date, risk_free_rate, day_count))\n",
        "dividend_yield = ql.YieldTermStructureHandle(ql.FlatForward(calculation_date, dividend_rate, day_count))\n",
        "volatility_yield = ql.BlackVolTermStructureHandle(ql.BlackConstantVol(calculation_date, calendar, volatility, day_count))\n",
        "\n",
        "process = ql.BlackScholesMertonProcess(spot_handle, dividend_yield, rate_yield, volatility_yield)\n",
        "american_option.setPricingEngine(ql.MCAmericanEngine(process))\n",
        "\n",
        "# Рассчитываем цену опциона\n",
        "print(\"Option price: \", american_option.NPV())"
      ],
      "metadata": {
        "id": "w9PIVxGTwul1",
        "colab": {
          "base_uri": "https://localhost:8080/",
          "height": 235
        },
        "outputId": "aff50ee7-2f73-4246-cf25-5d7cb5a924b2"
      },
      "execution_count": null,
      "outputs": [
        {
          "output_type": "error",
          "ename": "TypeError",
          "evalue": "ignored",
          "traceback": [
            "\u001b[0;31m---------------------------------------------------------------------------\u001b[0m",
            "\u001b[0;31mTypeError\u001b[0m                                 Traceback (most recent call last)",
            "\u001b[0;32m<ipython-input-25-9f49f5d4506f>\u001b[0m in \u001b[0;36m<cell line: 31>\u001b[0;34m()\u001b[0m\n\u001b[1;32m     29\u001b[0m \u001b[0;34m\u001b[0m\u001b[0m\n\u001b[1;32m     30\u001b[0m \u001b[0mprocess\u001b[0m \u001b[0;34m=\u001b[0m \u001b[0mql\u001b[0m\u001b[0;34m.\u001b[0m\u001b[0mBlackScholesMertonProcess\u001b[0m\u001b[0;34m(\u001b[0m\u001b[0mspot_handle\u001b[0m\u001b[0;34m,\u001b[0m \u001b[0mdividend_yield\u001b[0m\u001b[0;34m,\u001b[0m \u001b[0mrate_yield\u001b[0m\u001b[0;34m,\u001b[0m \u001b[0mvolatility_yield\u001b[0m\u001b[0;34m)\u001b[0m\u001b[0;34m\u001b[0m\u001b[0;34m\u001b[0m\u001b[0m\n\u001b[0;32m---> 31\u001b[0;31m \u001b[0mamerican_option\u001b[0m\u001b[0;34m.\u001b[0m\u001b[0msetPricingEngine\u001b[0m\u001b[0;34m(\u001b[0m\u001b[0mql\u001b[0m\u001b[0;34m.\u001b[0m\u001b[0mMCAmericanEngine\u001b[0m\u001b[0;34m(\u001b[0m\u001b[0mprocess\u001b[0m\u001b[0;34m)\u001b[0m\u001b[0;34m)\u001b[0m\u001b[0;34m\u001b[0m\u001b[0;34m\u001b[0m\u001b[0m\n\u001b[0m\u001b[1;32m     32\u001b[0m \u001b[0;34m\u001b[0m\u001b[0m\n\u001b[1;32m     33\u001b[0m \u001b[0;31m# Рассчитываем цену опциона\u001b[0m\u001b[0;34m\u001b[0m\u001b[0;34m\u001b[0m\u001b[0m\n",
            "\u001b[0;31mTypeError\u001b[0m: MCAmericanEngine() missing 1 required positional argument: 'traits'"
          ]
        }
      ]
    },
    {
      "cell_type": "code",
      "source": [
        "Код расчета implied volatility для американской опции на Python с использованием библиотеки Quantlib может выглядеть примерно так:\n",
        "\n",
        "```python\n",
        "import QuantLib as ql\n",
        "\n",
        "# Определение параметров опциона\n",
        "spot_price = 100               # Текущая цена акции\n",
        "strike_price = 100             # Цена страйк\n",
        "maturity_date = ql.Date(15, 3, 2023)  # Дата экспирации (dd/mm/yyyy)\n",
        "option_type = ql.Option.Call   # Тип опциона (Call или Put)\n",
        "dividend_rate = 0.0            # Дивидендная доходность\n",
        "risk_free_rate = 0.05          # Безрисковая ставка\n",
        "day_count = ql.Actual365Fixed() # Календарь для расчета времени до экспирации\n",
        "\n",
        "# Создание объектов опциона и инструмента для его оценки\n",
        "payoff = ql.PlainVanillaPayoff(option_type, strike_price)\n",
        "exercise = ql.AmericanExercise(maturity_date)\n",
        "american_option = ql.VanillaOption(payoff, exercise)\n",
        "underlying = ql.SimpleQuote(spot_price)\n",
        "dividend_yield = ql.FlatForward(0, ql.TARGET(), dividend_rate, day_count)\n",
        "risk_free_curve = ql.FlatForward(0, ql.TARGET(), risk_free_rate, day_count)\n",
        "underlying_handle = ql.QuoteHandle(underlying)\n",
        "dividend_yield_handle = ql.YieldTermStructureHandle(dividend_yield)\n",
        "risk_free_rate_handle = ql.YieldTermStructureHandle(risk_free_curve)\n",
        "\n",
        "# Оценка опциона по \"честной\" цене\n",
        "engine = ql.HestonExpansionEngine(ql.HestonModel(ql.HestonProcess(dividend_yield_handle, risk_free_rate_handle,\n",
        "                     underlying_handle, ql.QuoteHandle(ql.SimpleQuote(spot_price)), 0.1, 1, 0.05, 0.0001, 0.0)))\n",
        "american_option.setPricingEngine(engine)\n",
        "fair_value = american_option.NPV()\n",
        "\n",
        "# Задание целевой волатильности и расчет implied volatility с помощью метода Брента\n",
        "target_volatility = 0.2\n",
        "implied_volatility = ql.Brent().solve(ql.impliedVolatility(fair_value, underlying_handle, strike_price,\n",
        "                                                           maturity_date, ql.NullVolatility(),\n",
        "                                                           dividend_yield_handle, risk_free_rate_handle,\n",
        "                                                           ql.Option.Call), 1e-6, 0.0001, target_volatility)\n",
        "\n",
        "print(f\"Implied volatility: {implied_volatility:.4f}\")\n",
        "```\n",
        "\n",
        "В этом коде задаются параметры опциона (цена акции, цена страйк, дата экспирации, тип опциона и др.), создаются объекты для его оценки (опцион, инструменты), оценивается \"честная\" цена опциона, а затем с помощью метода Брента расчитывается implied volatility для целевой волатильности (0.2 в данном примере)."
      ],
      "metadata": {
        "id": "bkF2YtzuxYHd"
      },
      "execution_count": null,
      "outputs": []
    },
    {
      "cell_type": "code",
      "source": [
        "import QuantLib as ql\n",
        "\n",
        "# Установка параметров модели опциона\n",
        "maturity_date = ql.Date(15, 6, 2023)\n",
        "strike_price = 100\n",
        "spot_price = 95\n",
        "dividend_rate = 0.0\n",
        "option_type = ql.Option.Call\n",
        "\n",
        "# Установка параметров дисконта\n",
        "risk_free_rate = 0.05\n",
        "day_count = ql.Actual365Fixed()\n",
        "calendar = ql.Russia()\n",
        "\n",
        "calculation_date = ql.Date.todaysDate()\n",
        "ql.Settings.instance().evaluationDate = calculation_date\n",
        "\n",
        "option_type = ql.Option.Call\n",
        "\n",
        "# Создание структуры опциона\n",
        "payoff = ql.PlainVanillaPayoff(option_type, strike_price)\n",
        "exercise = ql.AmericanExercise(calculation_date, maturity_date)\n",
        "option = ql.VanillaOption(payoff, exercise)\n",
        "\n",
        "# Создание структуры параметров модели\n",
        "spot_handle = ql.QuoteHandle(\n",
        "    ql.SimpleQuote(spot_price)\n",
        ")\n",
        "flat_ts = ql.YieldTermStructureHandle(\n",
        "    ql.FlatForward(calculation_date, ql.QuoteHandle(\n",
        "        ql.SimpleQuote(risk_free_rate)), day_count)\n",
        ")\n",
        "dividend_yield = ql.YieldTermStructureHandle(\n",
        "    ql.FlatForward(calculation_date, ql.QuoteHandle(\n",
        "        ql.SimpleQuote(dividend_rate)), day_count)\n",
        ")\n",
        "flat_vol_ts = ql.BlackVolTermStructureHandle(\n",
        "    ql.BlackConstantVol(calculation_date, calendar, 0.20, day_count)\n",
        ")\n",
        "\n",
        "bsm_process = ql.BlackScholesMertonProcess(spot_handle, \n",
        "                                           dividend_yield, \n",
        "                                           flat_ts, \n",
        "                                           flat_vol_ts)\n",
        "\n",
        "# Вычисление подразумеваемой волатильности\n",
        "volatility = ql.Implied_volatility(option, spot_price, bsm_process)\n",
        "\n",
        "print(\"Implied Volatility: \", volatility)\n"
      ],
      "metadata": {
        "colab": {
          "base_uri": "https://localhost:8080/",
          "height": 235
        },
        "id": "mzidUPqVewFj",
        "outputId": "4dcd781e-c145-41e3-8d08-d687a774cd87"
      },
      "execution_count": null,
      "outputs": [
        {
          "output_type": "error",
          "ename": "AttributeError",
          "evalue": "ignored",
          "traceback": [
            "\u001b[0;31m---------------------------------------------------------------------------\u001b[0m",
            "\u001b[0;31mAttributeError\u001b[0m                            Traceback (most recent call last)",
            "\u001b[0;32m<ipython-input-22-f823e4647fba>\u001b[0m in \u001b[0;36m<cell line: 47>\u001b[0;34m()\u001b[0m\n\u001b[1;32m     45\u001b[0m \u001b[0;34m\u001b[0m\u001b[0m\n\u001b[1;32m     46\u001b[0m \u001b[0;31m# Вычисление подразумеваемой волатильности\u001b[0m\u001b[0;34m\u001b[0m\u001b[0;34m\u001b[0m\u001b[0m\n\u001b[0;32m---> 47\u001b[0;31m \u001b[0mvolatility\u001b[0m \u001b[0;34m=\u001b[0m \u001b[0mql\u001b[0m\u001b[0;34m.\u001b[0m\u001b[0mImplied_volatility\u001b[0m\u001b[0;34m(\u001b[0m\u001b[0moption\u001b[0m\u001b[0;34m,\u001b[0m \u001b[0mspot_price\u001b[0m\u001b[0;34m,\u001b[0m \u001b[0mbsm_process\u001b[0m\u001b[0;34m)\u001b[0m\u001b[0;34m\u001b[0m\u001b[0;34m\u001b[0m\u001b[0m\n\u001b[0m\u001b[1;32m     48\u001b[0m \u001b[0;34m\u001b[0m\u001b[0m\n\u001b[1;32m     49\u001b[0m \u001b[0mprint\u001b[0m\u001b[0;34m(\u001b[0m\u001b[0;34m\"Implied Volatility: \"\u001b[0m\u001b[0;34m,\u001b[0m \u001b[0mvolatility\u001b[0m\u001b[0;34m)\u001b[0m\u001b[0;34m\u001b[0m\u001b[0;34m\u001b[0m\u001b[0m\n",
            "\u001b[0;31mAttributeError\u001b[0m: module 'QuantLib' has no attribute 'Implied_volatility'"
          ]
        }
      ]
    },
    {
      "cell_type": "code",
      "source": [],
      "metadata": {
        "id": "_sDoXGvafReh"
      },
      "execution_count": null,
      "outputs": []
    }
  ]
}